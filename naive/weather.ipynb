{
 "cells": [
  {
   "cell_type": "code",
   "execution_count": 1,
   "metadata": {},
   "outputs": [],
   "source": [
    "import pandas as pd\n",
    "from naive_bayes import GaussianNaiveBayesClassifier\n",
    "from sklearn.naive_bayes import GaussianNB\n",
    "from sklearn.model_selection import train_test_split\n",
    "from sklearn.metrics import confusion_matrix, ConfusionMatrixDisplay, accuracy_score\n",
    "import matplotlib.pyplot as plt\n",
    "from testing import k_fold_cross_validation"
   ]
  },
  {
   "cell_type": "code",
   "execution_count": 2,
   "metadata": {},
   "outputs": [
    {
     "data": {
      "text/html": [
       "<div>\n",
       "<style scoped>\n",
       "    .dataframe tbody tr th:only-of-type {\n",
       "        vertical-align: middle;\n",
       "    }\n",
       "\n",
       "    .dataframe tbody tr th {\n",
       "        vertical-align: top;\n",
       "    }\n",
       "\n",
       "    .dataframe thead th {\n",
       "        text-align: right;\n",
       "    }\n",
       "</style>\n",
       "<table border=\"1\" class=\"dataframe\">\n",
       "  <thead>\n",
       "    <tr style=\"text-align: right;\">\n",
       "      <th></th>\n",
       "      <th>date</th>\n",
       "      <th>precipitation</th>\n",
       "      <th>temp_max</th>\n",
       "      <th>temp_min</th>\n",
       "      <th>wind</th>\n",
       "      <th>weather</th>\n",
       "    </tr>\n",
       "  </thead>\n",
       "  <tbody>\n",
       "    <tr>\n",
       "      <th>0</th>\n",
       "      <td>2012-01-01</td>\n",
       "      <td>0.0</td>\n",
       "      <td>12.8</td>\n",
       "      <td>5.0</td>\n",
       "      <td>4.7</td>\n",
       "      <td>drizzle</td>\n",
       "    </tr>\n",
       "    <tr>\n",
       "      <th>1</th>\n",
       "      <td>2012-01-02</td>\n",
       "      <td>10.9</td>\n",
       "      <td>10.6</td>\n",
       "      <td>2.8</td>\n",
       "      <td>4.5</td>\n",
       "      <td>rain</td>\n",
       "    </tr>\n",
       "    <tr>\n",
       "      <th>2</th>\n",
       "      <td>2012-01-03</td>\n",
       "      <td>0.8</td>\n",
       "      <td>11.7</td>\n",
       "      <td>7.2</td>\n",
       "      <td>2.3</td>\n",
       "      <td>rain</td>\n",
       "    </tr>\n",
       "    <tr>\n",
       "      <th>3</th>\n",
       "      <td>2012-01-04</td>\n",
       "      <td>20.3</td>\n",
       "      <td>12.2</td>\n",
       "      <td>5.6</td>\n",
       "      <td>4.7</td>\n",
       "      <td>rain</td>\n",
       "    </tr>\n",
       "    <tr>\n",
       "      <th>4</th>\n",
       "      <td>2012-01-05</td>\n",
       "      <td>1.3</td>\n",
       "      <td>8.9</td>\n",
       "      <td>2.8</td>\n",
       "      <td>6.1</td>\n",
       "      <td>rain</td>\n",
       "    </tr>\n",
       "    <tr>\n",
       "      <th>...</th>\n",
       "      <td>...</td>\n",
       "      <td>...</td>\n",
       "      <td>...</td>\n",
       "      <td>...</td>\n",
       "      <td>...</td>\n",
       "      <td>...</td>\n",
       "    </tr>\n",
       "    <tr>\n",
       "      <th>1456</th>\n",
       "      <td>2015-12-27</td>\n",
       "      <td>8.6</td>\n",
       "      <td>4.4</td>\n",
       "      <td>1.7</td>\n",
       "      <td>2.9</td>\n",
       "      <td>rain</td>\n",
       "    </tr>\n",
       "    <tr>\n",
       "      <th>1457</th>\n",
       "      <td>2015-12-28</td>\n",
       "      <td>1.5</td>\n",
       "      <td>5.0</td>\n",
       "      <td>1.7</td>\n",
       "      <td>1.3</td>\n",
       "      <td>rain</td>\n",
       "    </tr>\n",
       "    <tr>\n",
       "      <th>1458</th>\n",
       "      <td>2015-12-29</td>\n",
       "      <td>0.0</td>\n",
       "      <td>7.2</td>\n",
       "      <td>0.6</td>\n",
       "      <td>2.6</td>\n",
       "      <td>fog</td>\n",
       "    </tr>\n",
       "    <tr>\n",
       "      <th>1459</th>\n",
       "      <td>2015-12-30</td>\n",
       "      <td>0.0</td>\n",
       "      <td>5.6</td>\n",
       "      <td>-1.0</td>\n",
       "      <td>3.4</td>\n",
       "      <td>sun</td>\n",
       "    </tr>\n",
       "    <tr>\n",
       "      <th>1460</th>\n",
       "      <td>2015-12-31</td>\n",
       "      <td>0.0</td>\n",
       "      <td>5.6</td>\n",
       "      <td>-2.1</td>\n",
       "      <td>3.5</td>\n",
       "      <td>sun</td>\n",
       "    </tr>\n",
       "  </tbody>\n",
       "</table>\n",
       "<p>1461 rows × 6 columns</p>\n",
       "</div>"
      ],
      "text/plain": [
       "            date  precipitation  temp_max  temp_min  wind  weather\n",
       "0     2012-01-01            0.0      12.8       5.0   4.7  drizzle\n",
       "1     2012-01-02           10.9      10.6       2.8   4.5     rain\n",
       "2     2012-01-03            0.8      11.7       7.2   2.3     rain\n",
       "3     2012-01-04           20.3      12.2       5.6   4.7     rain\n",
       "4     2012-01-05            1.3       8.9       2.8   6.1     rain\n",
       "...          ...            ...       ...       ...   ...      ...\n",
       "1456  2015-12-27            8.6       4.4       1.7   2.9     rain\n",
       "1457  2015-12-28            1.5       5.0       1.7   1.3     rain\n",
       "1458  2015-12-29            0.0       7.2       0.6   2.6      fog\n",
       "1459  2015-12-30            0.0       5.6      -1.0   3.4      sun\n",
       "1460  2015-12-31            0.0       5.6      -2.1   3.5      sun\n",
       "\n",
       "[1461 rows x 6 columns]"
      ]
     },
     "execution_count": 2,
     "metadata": {},
     "output_type": "execute_result"
    }
   ],
   "source": [
    "df = pd.read_csv('datasets/seattle-weather.csv', delimiter=',')\n",
    "df"
   ]
  },
  {
   "cell_type": "code",
   "execution_count": 3,
   "metadata": {},
   "outputs": [
    {
     "name": "stdout",
     "output_type": "stream",
     "text": [
      "1\n",
      "838\n",
      "0.0     838\n",
      "0.3      54\n",
      "0.5      40\n",
      "1.0      26\n",
      "1.5      25\n",
      "       ... \n",
      "30.0      1\n",
      "26.4      1\n",
      "19.1      1\n",
      "46.7      1\n",
      "21.8      1\n",
      "Name: precipitation, Length: 111, dtype: int64\n"
     ]
    }
   ],
   "source": [
    "print(min(df['precipitation'].value_counts()))\n",
    "print(max(df['precipitation'].value_counts()))\n",
    "print(df['precipitation'].value_counts())"
   ]
  },
  {
   "cell_type": "code",
   "execution_count": 4,
   "metadata": {},
   "outputs": [
    {
     "name": "stdout",
     "output_type": "stream",
     "text": [
      "1\n",
      "58\n",
      " 11.1    58\n",
      " 14.4    49\n",
      " 10.0    47\n",
      " 12.8    46\n",
      " 12.2    44\n",
      "         ..\n",
      "-0.5      1\n",
      "-1.6      1\n",
      " 35.6     1\n",
      "-1.1      1\n",
      " 35.0     1\n",
      "Name: temp_max, Length: 67, dtype: int64\n"
     ]
    }
   ],
   "source": [
    "print(min(df['temp_max'].value_counts()))\n",
    "print(max(df['temp_max'].value_counts()))\n",
    "print(df['temp_max'].value_counts())"
   ]
  },
  {
   "cell_type": "code",
   "execution_count": 5,
   "metadata": {},
   "outputs": [
    {
     "name": "stdout",
     "output_type": "stream",
     "text": [
      "1\n",
      "66\n",
      " 6.1     66\n",
      " 10.0    64\n",
      " 11.7    60\n",
      " 7.2     60\n",
      " 13.3    58\n",
      " 11.1    56\n",
      " 4.4     55\n",
      " 13.9    54\n",
      " 9.4     53\n",
      " 8.3     52\n",
      " 15.0    51\n",
      " 8.9     51\n",
      " 5.6     50\n",
      " 6.7     47\n",
      " 14.4    46\n",
      " 7.8     46\n",
      " 12.2    45\n",
      " 2.8     45\n",
      " 12.8    45\n",
      " 3.3     44\n",
      " 3.9     44\n",
      " 5.0     41\n",
      " 10.6    37\n",
      " 1.7     30\n",
      " 0.6     28\n",
      " 1.1     27\n",
      " 15.6    27\n",
      " 2.2     24\n",
      " 16.1    23\n",
      " 0.0     16\n",
      " 16.7    15\n",
      " 17.2    14\n",
      " 17.8     9\n",
      "-0.5      9\n",
      "-2.1      8\n",
      "-0.6      7\n",
      "-1.1      7\n",
      "-2.8      7\n",
      "-1.7      6\n",
      " 18.3     6\n",
      "-4.9      4\n",
      "-1.6      3\n",
      "-3.2      3\n",
      "-2.2      3\n",
      "-1.0      2\n",
      "-2.7      2\n",
      "-4.3      2\n",
      "-3.9      2\n",
      "-6.6      1\n",
      "-7.1      1\n",
      "-5.5      1\n",
      "-6.0      1\n",
      "-3.3      1\n",
      "-4.4      1\n",
      "-3.8      1\n",
      "Name: temp_min, dtype: int64\n"
     ]
    }
   ],
   "source": [
    "print(min(df['temp_min'].value_counts()))\n",
    "print(max(df['temp_min'].value_counts()))\n",
    "print(df['temp_min'].value_counts())"
   ]
  },
  {
   "cell_type": "code",
   "execution_count": 6,
   "metadata": {},
   "outputs": [
    {
     "name": "stdout",
     "output_type": "stream",
     "text": [
      "1\n",
      "76\n",
      "2.6    76\n",
      "3.0    65\n",
      "2.2    55\n",
      "2.5    51\n",
      "2.8    47\n",
      "       ..\n",
      "8.2     1\n",
      "0.4     1\n",
      "0.7     1\n",
      "6.9     1\n",
      "7.7     1\n",
      "Name: wind, Length: 79, dtype: int64\n"
     ]
    }
   ],
   "source": [
    "print(min(df['wind'].value_counts()))\n",
    "print(max(df['wind'].value_counts()))\n",
    "print(df['wind'].value_counts())"
   ]
  },
  {
   "cell_type": "code",
   "execution_count": 7,
   "metadata": {},
   "outputs": [
    {
     "name": "stdout",
     "output_type": "stream",
     "text": [
      "rain       641\n",
      "sun        640\n",
      "fog        101\n",
      "drizzle     53\n",
      "snow        26\n",
      "Name: weather, dtype: int64\n"
     ]
    }
   ],
   "source": [
    "print(df['weather'].value_counts())"
   ]
  },
  {
   "cell_type": "code",
   "execution_count": 8,
   "metadata": {},
   "outputs": [],
   "source": [
    "X = df.loc[:, [\"precipitation\", \"temp_max\", \"temp_min\", \"wind\"]]\n",
    "y = df.loc[:, \"weather\"]"
   ]
  },
  {
   "cell_type": "code",
   "execution_count": 9,
   "metadata": {},
   "outputs": [],
   "source": [
    "X_train, X_test, y_train, y_test = train_test_split(X, y, test_size = 0.3, random_state = 1)\n",
    "\n",
    "gnb = GaussianNaiveBayesClassifier()\n",
    "# gnb = GaussianNB()\n",
    "gnb.fit(X_train, y_train)"
   ]
  },
  {
   "cell_type": "code",
   "execution_count": 10,
   "metadata": {},
   "outputs": [
    {
     "name": "stdout",
     "output_type": "stream",
     "text": [
      "['sun', 'sun', 'sun', 'sun', 'rain', 'rain', 'sun', 'rain', 'rain', 'rain', 'sun', 'sun', 'sun', 'sun', 'rain', 'sun', 'sun', 'sun', 'sun', 'sun', 'rain', 'sun', 'sun', 'rain', 'rain', 'sun', 'sun', 'rain', 'rain', 'sun', 'sun', 'snow', 'sun', 'rain', 'sun', 'sun', 'sun', 'sun', 'rain', 'sun', 'sun', 'sun', 'sun', 'sun', 'rain', 'rain', 'sun', 'sun', 'rain', 'rain', 'sun', 'sun', 'rain', 'rain', 'sun', 'rain', 'sun', 'rain', 'sun', 'sun', 'sun', 'sun', 'rain', 'rain', 'rain', 'rain', 'rain', 'sun', 'sun', 'sun', 'rain', 'sun', 'sun', 'rain', 'sun', 'rain', 'rain', 'rain', 'rain', 'sun', 'sun', 'sun', 'rain', 'rain', 'sun', 'rain', 'sun', 'sun', 'sun', 'rain', 'sun', 'sun', 'sun', 'sun', 'rain', 'sun', 'sun', 'sun', 'rain', 'sun', 'sun', 'sun', 'sun', 'rain', 'rain', 'sun', 'sun', 'rain', 'sun', 'sun', 'sun', 'rain', 'sun', 'rain', 'sun', 'sun', 'sun', 'rain', 'sun', 'sun', 'sun', 'rain', 'rain', 'sun', 'sun', 'rain', 'rain', 'sun', 'rain', 'sun', 'rain', 'rain', 'sun', 'rain', 'sun', 'sun', 'rain', 'sun', 'drizzle', 'sun', 'rain', 'sun', 'rain', 'sun', 'rain', 'rain', 'sun', 'sun', 'rain', 'rain', 'sun', 'rain', 'rain', 'sun', 'sun', 'sun', 'sun', 'sun', 'rain', 'drizzle', 'rain', 'sun', 'rain', 'sun', 'rain', 'sun', 'sun', 'sun', 'sun', 'sun', 'sun', 'rain', 'sun', 'rain', 'rain', 'rain', 'sun', 'rain', 'sun', 'rain', 'rain', 'sun', 'sun', 'rain', 'sun', 'rain', 'sun', 'sun', 'sun', 'rain', 'rain', 'rain', 'sun', 'rain', 'sun', 'sun', 'sun', 'snow', 'rain', 'rain', 'sun', 'sun', 'rain', 'rain', 'sun', 'sun', 'sun', 'sun', 'drizzle', 'sun', 'sun', 'rain', 'rain', 'rain', 'sun', 'sun', 'rain', 'rain', 'sun', 'rain', 'sun', 'rain', 'rain', 'rain', 'sun', 'sun', 'rain', 'sun', 'rain', 'sun', 'rain', 'rain', 'rain', 'sun', 'sun', 'rain', 'sun', 'rain', 'rain', 'rain', 'rain', 'sun', 'rain', 'sun', 'sun', 'rain', 'rain', 'sun', 'sun', 'sun', 'sun', 'sun', 'sun', 'rain', 'sun', 'sun', 'sun', 'rain', 'sun', 'sun', 'sun', 'rain', 'sun', 'sun', 'sun', 'rain', 'sun', 'rain', 'rain', 'sun', 'sun', 'rain', 'rain', 'sun', 'rain', 'sun', 'sun', 'rain', 'rain', 'drizzle', 'rain', 'snow', 'rain', 'rain', 'sun', 'rain', 'sun', 'rain', 'snow', 'rain', 'rain', 'rain', 'sun', 'rain', 'rain', 'sun', 'rain', 'sun', 'rain', 'sun', 'sun', 'sun', 'sun', 'sun', 'sun', 'sun', 'drizzle', 'sun', 'sun', 'sun', 'rain', 'rain', 'rain', 'rain', 'sun', 'rain', 'sun', 'sun', 'sun', 'sun', 'sun', 'rain', 'rain', 'rain', 'sun', 'sun', 'sun', 'snow', 'rain', 'sun', 'sun', 'rain', 'rain', 'sun', 'sun', 'sun', 'sun', 'sun', 'sun', 'sun', 'rain', 'sun', 'rain', 'rain', 'rain', 'rain', 'rain', 'sun', 'sun', 'sun', 'sun', 'sun', 'rain', 'sun', 'rain', 'sun', 'sun', 'rain', 'rain', 'sun', 'rain', 'sun', 'rain', 'sun', 'sun', 'sun', 'sun', 'sun', 'rain', 'sun', 'sun', 'rain', 'rain', 'rain', 'sun', 'sun', 'rain', 'rain', 'sun', 'sun', 'sun', 'rain', 'rain', 'sun', 'sun', 'rain', 'sun', 'sun', 'sun', 'sun', 'rain', 'sun', 'sun', 'sun', 'sun', 'sun', 'sun', 'sun', 'rain', 'rain', 'rain', 'rain', 'sun', 'sun', 'sun', 'rain', 'rain', 'sun', 'sun', 'sun', 'rain', 'rain', 'rain', 'rain', 'sun', 'sun', 'sun', 'sun', 'rain', 'sun', 'sun', 'sun', 'rain', 'sun', 'sun', 'sun', 'sun', 'sun', 'sun', 'rain', 'rain', 'sun', 'rain', 'sun', 'rain', 'rain', 'rain', 'sun', 'rain']\n"
     ]
    }
   ],
   "source": [
    "y_pred=gnb.predict(X_test)\n",
    "print(y_pred)"
   ]
  },
  {
   "cell_type": "code",
   "execution_count": 11,
   "metadata": {},
   "outputs": [
    {
     "data": {
      "image/png": "[encoded data removed]",
      "text/plain": [
       "<Figure size 640x480 with 2 Axes>"
      ]
     },
     "metadata": {},
     "output_type": "display_data"
    }
   ],
   "source": [
    "cm = confusion_matrix(y_test, y_pred)\n",
    "cm_display = ConfusionMatrixDisplay(confusion_matrix = cm)\n",
    "cm_display.plot()\n",
    "plt.show()"
   ]
  },
  {
   "cell_type": "code",
   "execution_count": 12,
   "metadata": {},
   "outputs": [
    {
     "name": "stdout",
     "output_type": "stream",
     "text": [
      "0.8451025056947609\n"
     ]
    }
   ],
   "source": [
    "ac = accuracy_score(y_test, y_pred)\n",
    "print(ac)"
   ]
  },
  {
   "cell_type": "code",
   "execution_count": 13,
   "metadata": {},
   "outputs": [],
   "source": [
    "# Cross validation\n",
    "\n",
    "# score = k_fold_cross_validation(mnb.fit, mnb.predict, mnb.reset, X, y, X.shape[0])\n",
    "# print(score)"
   ]
  }
 ],
 "metadata": {
  "kernelspec": {
   "display_name": "Python 3",
   "language": "python",
   "name": "python3"
  },
  "language_info": {
   "codemirror_mode": {
    "name": "ipython",
    "version": 3
   },
   "file_extension": ".py",
   "mimetype": "text/x-python",
   "name": "python",
   "nbconvert_exporter": "python",
   "pygments_lexer": "ipython3",
   "version": "3.10.7"
  }
 },
 "nbformat": 4,
 "nbformat_minor": 2
}
