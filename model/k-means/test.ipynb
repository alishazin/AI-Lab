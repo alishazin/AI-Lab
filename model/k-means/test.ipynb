{
 "cells": [
  {
   "cell_type": "code",
   "execution_count": 2,
   "metadata": {},
   "outputs": [],
   "source": [
    "import numpy as np\n",
    "import matplotlib.pyplot as plt\n"
   ]
  },
  {
   "cell_type": "markdown",
   "metadata": {},
   "source": [
    "`np.linalg.norm(x, ord=None, axis=None, keepdims=False)`\n",
    "\n",
    "x -> input array\n",
    "\n",
    "ord ->  \n",
    "&emsp;ord=2 (Euclidean norm) (default)  \n",
    "&emsp;ord=1 (Manhattan norm)  \n",
    "&emsp;many others for matrices\n",
    "\n",
    "axis -> Determines the axis over which the norm is computed. `None` for vectors\n",
    "\n",
    "keepdims -> If True, the reduced dimensions are kept as singleton dimensions."
   ]
  },
  {
   "cell_type": "code",
   "execution_count": null,
   "metadata": {},
   "outputs": [
    {
     "name": "stdout",
     "output_type": "stream",
     "text": [
      "5.0\n"
     ]
    }
   ],
   "source": [
    "vector = np.array([3, 4])\n",
    "magnitude = np.linalg.norm(vector, ord=2)  # Euclidean norm\n",
    "print(magnitude) # math.sqrt(3**2 + 4**2)"
   ]
  },
  {
   "cell_type": "code",
   "execution_count": 5,
   "metadata": {},
   "outputs": [
    {
     "name": "stdout",
     "output_type": "stream",
     "text": [
      "[5.] (1,)\n"
     ]
    }
   ],
   "source": [
    "vector = np.array([3, 4])\n",
    "magnitude = np.linalg.norm(vector, ord=2, keepdims=True)  # Euclidean norm\n",
    "print(magnitude, magnitude.shape) # math.sqrt(3**2 + 4**2)"
   ]
  },
  {
   "cell_type": "markdown",
   "metadata": {},
   "source": [
    "`array[:, np.newaxis]  # Adds a new axis at the specified position`  \n",
    " Increases the dimensionality of an array by 1 along the specified axis."
   ]
  },
  {
   "cell_type": "code",
   "execution_count": 7,
   "metadata": {},
   "outputs": [
    {
     "name": "stdout",
     "output_type": "stream",
     "text": [
      "(2,)\n",
      "[[1]\n",
      " [2]] (2, 1)\n",
      "[[1 2]] (1, 2)\n"
     ]
    }
   ],
   "source": [
    "vector = np.array([1,2])\n",
    "print(vector.shape)\n",
    "\n",
    "arr_row = vector[:, np.newaxis]\n",
    "print(arr_row, arr_row.shape)\n",
    "\n",
    "arr_col = vector[np.newaxis, :]\n",
    "print(arr_col, arr_col.shape)"
   ]
  },
  {
   "cell_type": "code",
   "execution_count": 23,
   "metadata": {},
   "outputs": [
    {
     "name": "stdout",
     "output_type": "stream",
     "text": [
      "(3, 3)\n",
      "[[[1 2 3]\n",
      "  [4 5 6]\n",
      "  [7 8 9]]] (1, 3, 3)\n",
      "[[[1 2 3]]\n",
      "\n",
      " [[4 5 6]]\n",
      "\n",
      " [[7 8 9]]] (3, 1, 3)\n",
      "[[[1]\n",
      "  [2]\n",
      "  [3]]\n",
      "\n",
      " [[4]\n",
      "  [5]\n",
      "  [6]]\n",
      "\n",
      " [[7]\n",
      "  [8]\n",
      "  [9]]] (3, 3, 1)\n"
     ]
    }
   ],
   "source": [
    "matrix = np.array([\n",
    "    [1,2,3],\n",
    "    [4,5,6],\n",
    "    [7,8,9],\n",
    "])\n",
    "print(matrix.shape)\n",
    "\n",
    "# tensor1 = matrix[np.newaxis, :, :]\n",
    "tensor1 = matrix[np.newaxis, :]\n",
    "print(tensor1, tensor1.shape)\n",
    "\n",
    "tensor2 = matrix[:, np.newaxis, :]\n",
    "print(tensor2, tensor2.shape)\n",
    "\n",
    "tensor3 = matrix[:, :, np.newaxis]\n",
    "print(tensor3, tensor3.shape)"
   ]
  },
  {
   "cell_type": "code",
   "execution_count": 27,
   "metadata": {},
   "outputs": [
    {
     "name": "stdout",
     "output_type": "stream",
     "text": [
      "[[ 9 18]\n",
      " [19 28]\n",
      " [29 38]]\n"
     ]
    }
   ],
   "source": [
    "# What is the condition for adding and subtracting among tensors\n",
    "mat1 = np.array([[1, 2]])\n",
    "mat2 = np.array([\n",
    "    [10, 20],\n",
    "    [20, 30],\n",
    "    [30, 40],\n",
    "])\n",
    "\n",
    "print(mat2 - mat1)\n",
    "# This is called as brodcasting \n",
    "# https://www.youtube.com/watch?v=oG1t3qlzq14"
   ]
  },
  {
   "cell_type": "code",
   "execution_count": 59,
   "metadata": {},
   "outputs": [
    {
     "name": "stdout",
     "output_type": "stream",
     "text": [
      "5.477225575051661\n",
      "5.477225575051661\n",
      "(2, 3, 2)\n",
      "[[ 5.91607978  7.48331477]\n",
      " [15.84297952 17.54992877]]\n",
      "(2, 2)\n",
      "[[ 5.91607978  7.48331477]\n",
      " [15.84297952 17.54992877]]\n"
     ]
    }
   ],
   "source": [
    "# Frobenius Norm\n",
    "# https://www.youtube.com/watch?v=yJh8l9HKMGY\n",
    "# Bu default for matrices in np.linalg.norm (or use ord='fro')\n",
    "\n",
    "mat = np.array([[1,2], [3,4]])\n",
    "print(np.linalg.norm(mat, ord='fro'))\n",
    "print(np.sqrt(1**2 + 2**2 + 3**2 + 4**2))\n",
    "\n",
    "# (300, 1, 2)\n",
    "# (3, 2)\n",
    "# after brodcasting, resulted array shape is \n",
    "# (300, 3, 2)\n",
    "\n",
    "# For simplicity, lets take (2, 3, 2)\n",
    "\n",
    "tensor4 = np.array([\n",
    "    [\n",
    "        [1, 2],\n",
    "        [3, 4],\n",
    "        [5, 6]\n",
    "    ],\n",
    "    [\n",
    "        [7, 8],\n",
    "        [9, 10],\n",
    "        [11, 12]\n",
    "    ]\n",
    "])\n",
    "print(tensor4.shape)\n",
    "\n",
    "print(np.linalg.norm(tensor4, axis=1))\n",
    "print(np.linalg.norm(tensor4, axis=1).shape)\n",
    "\n",
    "# For shape (4, 3, 2)\n",
    "\n",
    "# When axis = 0\n",
    "# res = (3, 2)\n",
    "\n",
    "# When axis = 1\n",
    "# res = (2, 2)\n",
    "\n",
    "# When axis = 2\n",
    "# res = (2, 3)\n",
    "\n",
    "# axis = 0\n",
    "# print(np.array(\n",
    "#     [\n",
    "#         [np.sqrt(1**2 + 7**2), np.sqrt(2**2 + 8**2)],\n",
    "#         [np.sqrt(3**2 + 9**2), np.sqrt(4**2 + 10**2)],\n",
    "#         [np.sqrt(5**2 + 11**2), np.sqrt(6**2 + 12**2)],\n",
    "#     ]\n",
    "# ))\n",
    "\n",
    "# axis = 1\n",
    "print(np.array(\n",
    "    [\n",
    "        [np.sqrt(1**2 + 3**2 + 5**2), np.sqrt(2**2 + 4**2 + 6**2)],\n",
    "        [np.sqrt(7**2 + 9**2 + 11**2), np.sqrt(8**2 + 10**2 + 12**2)],\n",
    "    ]\n",
    "))\n",
    "\n",
    "# axis = 2\n",
    "# print(np.array(\n",
    "#     [\n",
    "#         [np.sqrt(1**2 + 2**2), np.sqrt(3**2 + 4**2), np.sqrt(5**2 + 6**2)],\n",
    "#         [np.sqrt(7**2 + 8**2), np.sqrt(9**2 + 10**2), np.sqrt(11**2 + 12**2)]\n",
    "#     ]\n",
    "# ))"
   ]
  },
  {
   "cell_type": "markdown",
   "metadata": {},
   "source": [
    "The `np.argmin` function in NumPy is used to find the index of the smallest value in an array.  \n",
    "It can operate on the entire array or along a specified axis."
   ]
  },
  {
   "cell_type": "code",
   "execution_count": 71,
   "metadata": {},
   "outputs": [
    {
     "name": "stdout",
     "output_type": "stream",
     "text": [
      "2\n",
      "0\n",
      "[0 1 0]\n",
      "[0 1]\n"
     ]
    }
   ],
   "source": [
    "# In 1D\n",
    "a1 = np.array([10,9,1,2,3,4,5])\n",
    "print(np.argmin(a1))\n",
    "print(np.argmax(a1))\n",
    "\n",
    "# In 2D\n",
    "a2 = np.array([\n",
    "    [10, 55, 12],\n",
    "    [22, 21, 23],\n",
    "])\n",
    "print(np.argmin(a2, axis=0))\n",
    "# print(np.argmax(a2, axis=0))\n",
    "\n",
    "print(np.argmin(a2, axis=1))\n",
    "# print(np.argmax(a2, axis=1))\n",
    "\n",
    "# Shape: (2, 3)\n",
    "# argmin / argmax for axis=0: (3,)\n",
    "# argmin / argmax for axis=1: (2,)"
   ]
  }
 ],
 "metadata": {
  "kernelspec": {
   "display_name": "Python 3",
   "language": "python",
   "name": "python3"
  },
  "language_info": {
   "codemirror_mode": {
    "name": "ipython",
    "version": 3
   },
   "file_extension": ".py",
   "mimetype": "text/x-python",
   "name": "python",
   "nbconvert_exporter": "python",
   "pygments_lexer": "ipython3",
   "version": "3.10.7"
  }
 },
 "nbformat": 4,
 "nbformat_minor": 2
}
